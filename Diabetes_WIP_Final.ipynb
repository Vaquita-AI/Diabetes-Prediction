{
 "cells": [
  {
   "cell_type": "markdown",
   "id": "88d011b8-dee1-4543-a21d-0aa1fbd30577",
   "metadata": {
    "id": "88d011b8-dee1-4543-a21d-0aa1fbd30577"
   },
   "source": [
    "# Predictive Modeling for Diabetes using ML Classifiers 🩺"
   ]
  },
  {
   "cell_type": "markdown",
   "id": "71af755e-f2e5-45b3-9127-684253c30f53",
   "metadata": {
    "id": "88d011b8-dee1-4543-a21d-0aa1fbd30577"
   },
   "source": [
    "# 1. Problem Definition"
   ]
  },
  {
   "cell_type": "markdown",
   "id": "bbfd983f-b2d8-4b2c-946d-3c5cb0689ee8",
   "metadata": {
    "id": "88d011b8-dee1-4543-a21d-0aa1fbd30577"
   },
   "source": [
    "## 1.1 Project Goal"
   ]
  },
  {
   "cell_type": "markdown",
   "id": "50738bec-dba3-4ff7-b768-171a6702126c",
   "metadata": {
    "id": "88d011b8-dee1-4543-a21d-0aa1fbd30577"
   },
   "source": [
    "## 1.2 Problem Statement"
   ]
  },
  {
   "cell_type": "markdown",
   "id": "ee75c3b2-0462-4003-973b-1091558d99d5",
   "metadata": {
    "id": "88d011b8-dee1-4543-a21d-0aa1fbd30577"
   },
   "source": [
    "## 1.3 Impact of the Solution"
   ]
  },
  {
   "cell_type": "markdown",
   "id": "90f618ce-cd2b-4202-826b-4982d174f049",
   "metadata": {
    "id": "88d011b8-dee1-4543-a21d-0aa1fbd30577"
   },
   "source": [
    "# 2. Data Collection\n"
   ]
  },
  {
   "cell_type": "markdown",
   "id": "719223db-0a9f-4a22-9e7f-367628632e98",
   "metadata": {
    "id": "88d011b8-dee1-4543-a21d-0aa1fbd30577"
   },
   "source": [
    "## 2.1 Source of Data\n"
   ]
  },
  {
   "cell_type": "markdown",
   "id": "6b6852ad-d3fb-44eb-b3f7-1b07ac12ed4a",
   "metadata": {
    "id": "88d011b8-dee1-4543-a21d-0aa1fbd30577"
   },
   "source": [
    "## 2.2 Composition of the Dataset\n"
   ]
  },
  {
   "cell_type": "markdown",
   "id": "0c68489f-ec27-463a-8a94-d3e437ac4868",
   "metadata": {},
   "source": []
  },
  {
   "cell_type": "markdown",
   "id": "7dd9d595-cf1c-469e-b555-8759dfccd28a",
   "metadata": {
    "id": "88d011b8-dee1-4543-a21d-0aa1fbd30577"
   },
   "source": [
    "# 3. Data Preproccesing"
   ]
  },
  {
   "cell_type": "code",
   "execution_count": null,
   "id": "-CzFkWQK-Yry",
   "metadata": {
    "colab": {
     "base_uri": "https://localhost:8080/"
    },
    "id": "-CzFkWQK-Yry",
    "outputId": "31457012-4869-467b-f577-b5c85157cb6e"
   },
   "outputs": [],
   "source": [
    "# Data Manipulation and Visualization\n",
    "import pandas as pd\n",
    "import numpy as np\n",
    "from math import pi\n",
    "import seaborn as sns\n",
    "import matplotlib.pyplot as plt\n",
    "\n",
    "# Machine Learning Libraries\n",
    "from sklearn.preprocessing import StandardScaler, LabelEncoder, OneHotEncoder\n",
    "from sklearn.impute import SimpleImputer\n",
    "from sklearn.model_selection import train_test_split, GridSearchCV, StratifiedKFold\n",
    "from sklearn.linear_model import LogisticRegression\n",
    "from sklearn.ensemble import RandomForestClassifier, VotingClassifier\n",
    "from sklearn.neighbors import KNeighborsClassifier\n",
    "from sklearn.naive_bayes import GaussianNB\n",
    "from sklearn.neural_network import MLPClassifier\n",
    "from sklearn.svm import SVC\n",
    "from sklearn.metrics import accuracy_score, f1_score, classification_report\n",
    "from sklearn.feature_selection import RFECV\n",
    "from sklearn.model_selection import RandomizedSearchCV\n",
    "from scipy.stats import uniform, randint\n",
    "from imblearn.over_sampling import SMOTE\n",
    "from catboost import CatBoostClassifier\n",
    "from xgboost import XGBClassifier\n",
    "\n",
    "# Deep Learning Libraries\n",
    "import torch\n",
    "import torch.nn as nn\n",
    "import torch.optim as optim\n",
    "from torch.utils.data import DataLoader, TensorDataset\n",
    "\n",
    "# Hyperparameter Optimization\n",
    "import optuna\n",
    "from optuna.visualization import plot_optimization_history, plot_param_importances, plot_parallel_coordinate, plot_slice\n",
    "\n",
    "# Utilities\n",
    "import os\n",
    "import time\n",
    "import pickle\n",
    "\n",
    "# Google Colab and Paths\n",
    "# from google.colab import drive\n",
    "# drive.mount('/content/drive')\n",
    "dataset_path = 'diabetes_dataset.csv'\n",
    "save_dir = '/optuna_studies'"
   ]
  },
  {
   "cell_type": "markdown",
   "id": "0f1c5bee-e1df-496d-88fa-abffe71d5f80",
   "metadata": {},
   "source": [
    "## 3.1 Loading the Dataset and Handling Missing Values"
   ]
  },
  {
   "cell_type": "code",
   "execution_count": 2,
   "id": "9e275c83-093c-4c9f-9ebe-0956b0867f0c",
   "metadata": {},
   "outputs": [
    {
     "name": "stdout",
     "output_type": "stream",
     "text": [
      "Initial few rows of the dataset:\n",
      "   year  gender   age location  race:AfricanAmerican  race:Asian  \\\n",
      "0  2020  Female  32.0  Alabama                     0           0   \n",
      "1  2015  Female  29.0  Alabama                     0           1   \n",
      "2  2015    Male  18.0  Alabama                     0           0   \n",
      "3  2015    Male  41.0  Alabama                     0           0   \n",
      "4  2016  Female  52.0  Alabama                     1           0   \n",
      "\n",
      "   race:Caucasian  race:Hispanic  race:Other  hypertension  heart_disease  \\\n",
      "0               0              0           1             0              0   \n",
      "1               0              0           0             0              0   \n",
      "2               0              0           1             0              0   \n",
      "3               1              0           0             0              0   \n",
      "4               0              0           0             0              0   \n",
      "\n",
      "  smoking_history    bmi  hbA1c_level  blood_glucose_level  diabetes  \n",
      "0           never  27.32          5.0                  100         0  \n",
      "1           never  19.95          5.0                   90         0  \n",
      "2           never  23.76          4.8                  160         0  \n",
      "3           never  27.32          4.0                  159         0  \n",
      "4           never  23.75          6.5                   90         0  \n",
      "Missing values in each column:\n",
      " year                    0\n",
      "gender                  0\n",
      "age                     0\n",
      "location                0\n",
      "race:AfricanAmerican    0\n",
      "race:Asian              0\n",
      "race:Caucasian          0\n",
      "race:Hispanic           0\n",
      "race:Other              0\n",
      "hypertension            0\n",
      "heart_disease           0\n",
      "smoking_history         0\n",
      "bmi                     0\n",
      "hbA1c_level             0\n",
      "blood_glucose_level     0\n",
      "diabetes                0\n",
      "dtype: int64\n"
     ]
    }
   ],
   "source": [
    "df = pd.read_csv(dataset_path)\n",
    "\n",
    "print(\"Initial few rows of the dataset:\")\n",
    "print(df.head())\n",
    "\n",
    "# Check for missing values\n",
    "missing_values = df.isnull().sum()\n",
    "print(\"Missing values in each column:\\n\", missing_values)"
   ]
  },
  {
   "cell_type": "markdown",
   "id": "a3808bd1-395e-4c4b-8217-3bb935d33d63",
   "metadata": {},
   "source": [
    "## 3.2 Encoding Categorical Variables"
   ]
  },
  {
   "cell_type": "code",
   "execution_count": 3,
   "id": "08314214-675c-4681-a515-8dc26927d332",
   "metadata": {},
   "outputs": [],
   "source": [
    "# Binary encoding for gender and location\n",
    "binary_encoder = OneHotEncoder(drop='if_binary', sparse_output=False)\n",
    "binary_encoded = binary_encoder.fit_transform(df[['gender', 'location']])\n",
    "binary_encoded_df = pd.DataFrame(binary_encoded, columns=binary_encoder.get_feature_names_out(['gender', 'location']))\n",
    "df = pd.concat([df, binary_encoded_df], axis=1)\n",
    "df.drop(columns=['gender', 'location'], inplace=True)\n",
    "\n",
    "# Since smoking_history has multiple categories, we will use label encoding\n",
    "label_encoder = LabelEncoder()\n",
    "df['smoking_history'] = label_encoder.fit_transform(df['smoking_history'])"
   ]
  },
  {
   "cell_type": "markdown",
   "id": "07bac18b-6665-4f1a-bbca-279af877aacc",
   "metadata": {},
   "source": [
    "## 3.3 Standardizating Numerical Variables"
   ]
  },
  {
   "cell_type": "code",
   "execution_count": 4,
   "id": "e48f3962-4fea-48e5-bbbe-6a000c394708",
   "metadata": {},
   "outputs": [],
   "source": [
    "scaler = StandardScaler()\n",
    "num_features = ['age', 'bmi', 'hbA1c_level', 'blood_glucose_level']\n",
    "df[num_features] = scaler.fit_transform(df[num_features])"
   ]
  },
  {
   "cell_type": "markdown",
   "id": "84fb7d50-05b0-4ac7-86aa-9d8ea79c9a87",
   "metadata": {},
   "source": [
    "## 3.4 Handling Class Imbalance using SMOTE"
   ]
  },
  {
   "cell_type": "code",
   "execution_count": 5,
   "id": "f46f5d72-4b04-42bc-9035-75c6a5c2c240",
   "metadata": {},
   "outputs": [
    {
     "name": "stdout",
     "output_type": "stream",
     "text": [
      "Class distribution before SMOTE:\n",
      "diabetes\n",
      "0    73200\n",
      "1     6800\n",
      "Name: count, dtype: int64\n",
      "\n",
      "Class distribution after SMOTE:\n",
      "diabetes\n",
      "0    73200\n",
      "1    73200\n",
      "Name: count, dtype: int64\n"
     ]
    }
   ],
   "source": [
    "# Split the features from the label\n",
    "X = df.drop(columns=['diabetes'])\n",
    "y = df['diabetes']\n",
    "\n",
    "# Split the data into training and testing sets\n",
    "X_train, X_test, y_train, y_test = train_test_split(X, y, test_size=0.2, stratify=y)\n",
    "\n",
    "smote = SMOTE()\n",
    "X_train_smote, y_train_smote = smote.fit_resample(X_train, y_train)\n",
    "\n",
    "# Display the class distribution before and after applying SMOTE\n",
    "print(\"Class distribution before SMOTE:\")\n",
    "print(y_train.value_counts())\n",
    "\n",
    "print(\"\\nClass distribution after SMOTE:\")\n",
    "print(y_train_smote.value_counts())"
   ]
  },
  {
   "cell_type": "markdown",
   "id": "22a23cf7-8200-4775-9e54-35f69f4e6210",
   "metadata": {},
   "source": [
    "# 4. Exploratory Data Analysis (EDA)"
   ]
  },
  {
   "cell_type": "markdown",
   "id": "11272ace-dae9-4f3e-a19c-6033b6339f1f",
   "metadata": {},
   "source": [
    "## 4.1 Descriptive Statistics: Summary Statistics for Numerical Features"
   ]
  },
  {
   "cell_type": "code",
   "execution_count": 6,
   "id": "846a4db3-fcd6-475a-9bd8-83e1f6566561",
   "metadata": {},
   "outputs": [
    {
     "name": "stdout",
     "output_type": "stream",
     "text": [
      "Summary Statistics:\n",
      "                 year            age  race:AfricanAmerican     race:Asian  \\\n",
      "count  100000.000000  100000.000000         100000.000000  100000.000000   \n",
      "mean     2018.360820      41.885856              0.202230       0.200150   \n",
      "std         1.345239      22.516840              0.401665       0.400114   \n",
      "min      2015.000000       0.080000              0.000000       0.000000   \n",
      "25%      2019.000000      24.000000              0.000000       0.000000   \n",
      "50%      2019.000000      43.000000              0.000000       0.000000   \n",
      "75%      2019.000000      60.000000              0.000000       0.000000   \n",
      "max      2022.000000      80.000000              1.000000       1.000000   \n",
      "\n",
      "       race:Caucasian  race:Hispanic     race:Other  hypertension  \\\n",
      "count   100000.000000   100000.00000  100000.000000  100000.00000   \n",
      "mean         0.198760        0.19888       0.199980       0.07485   \n",
      "std          0.399069        0.39916       0.399987       0.26315   \n",
      "min          0.000000        0.00000       0.000000       0.00000   \n",
      "25%          0.000000        0.00000       0.000000       0.00000   \n",
      "50%          0.000000        0.00000       0.000000       0.00000   \n",
      "75%          0.000000        0.00000       0.000000       0.00000   \n",
      "max          1.000000        1.00000       1.000000       1.00000   \n",
      "\n",
      "       heart_disease            bmi    hbA1c_level  blood_glucose_level  \\\n",
      "count  100000.000000  100000.000000  100000.000000        100000.000000   \n",
      "mean        0.039420      27.320767       5.527507           138.058060   \n",
      "std         0.194593       6.636783       1.070672            40.708136   \n",
      "min         0.000000      10.010000       3.500000            80.000000   \n",
      "25%         0.000000      23.630000       4.800000           100.000000   \n",
      "50%         0.000000      27.320000       5.800000           140.000000   \n",
      "75%         0.000000      29.580000       6.200000           159.000000   \n",
      "max         1.000000      95.690000       9.000000           300.000000   \n",
      "\n",
      "            diabetes  \n",
      "count  100000.000000  \n",
      "mean        0.085000  \n",
      "std         0.278883  \n",
      "min         0.000000  \n",
      "25%         0.000000  \n",
      "50%         0.000000  \n",
      "75%         0.000000  \n",
      "max         1.000000  \n"
     ]
    }
   ],
   "source": [
    "# Reload the original dataset for EDA\n",
    "df_original = pd.read_csv('diabetes_dataset.csv')\n",
    "\n",
    "summary_stats = df_original.describe()\n",
    "print(\"Summary Statistics:\\n\", summary_stats)"
   ]
  },
  {
   "cell_type": "markdown",
   "id": "e80cf909-5af2-4de1-bc91-f417a534dada",
   "metadata": {},
   "source": [
    "## 4.2 Data Visualization"
   ]
  },
  {
   "cell_type": "markdown",
   "id": "38f65a30-853a-4b00-b7fd-0929510aceda",
   "metadata": {},
   "source": [
    "### 4.2.1 Heatmap of features correlation"
   ]
  },
  {
   "cell_type": "code",
   "execution_count": null,
   "id": "739eab45-ee14-493a-bbee-99b5b11aed18",
   "metadata": {},
   "outputs": [],
   "source": [
    "plt.figure(figsize=(12, 8))\n",
    "# Select only numeric columns for correlation matrix\n",
    "numeric_cols = df_original.select_dtypes(include=[np.number]).columns\n",
    "correlation_matrix = df_original[numeric_cols].corr()\n",
    "sns.heatmap(correlation_matrix, annot=True, cmap='coolwarm', linewidths=0.5)\n",
    "plt.title('Correlation Heatmap')\n",
    "plt.show()"
   ]
  },
  {
   "cell_type": "markdown",
   "id": "7e745558-af46-4e19-8e9e-0965401e1523",
   "metadata": {},
   "source": [
    "![Heatmap](https://i.imgur.com/zO0I1ZR.png)"
   ]
  },
  {
   "cell_type": "markdown",
   "id": "5dce67c2-f0fe-475b-8b74-123cd24812b1",
   "metadata": {},
   "source": [
    "### 4.2.2 Class Distribution"
   ]
  },
  {
   "cell_type": "code",
   "execution_count": null,
   "id": "c450f215-13bb-4f32-901c-7cbc3acc1928",
   "metadata": {
    "id": "c450f215-13bb-4f32-901c-7cbc3acc1928",
    "outputId": "ff424122-0853-4781-917b-8bd95c9e0200",
    "scrolled": true
   },
   "outputs": [],
   "source": [
    "# Check for class imbalance in the target variable\n",
    "class_counts = df_original['diabetes'].value_counts()\n",
    "print(\"Class distribution in the target variable (diabetes):\\n\", class_counts)\n",
    "\n",
    "plt.figure(figsize=(6, 4))\n",
    "sns.countplot(x='diabetes', data=df_original)\n",
    "plt.title('Class Distribution of Diabetes')\n",
    "plt.xlabel('Diabetes')\n",
    "plt.ylabel('Count')\n",
    "plt.show()"
   ]
  },
  {
   "cell_type": "markdown",
   "id": "e8342d21-caeb-4a60-9ef3-130cb8a85762",
   "metadata": {},
   "source": [
    "![Distribution](https://i.imgur.com/aBW9RPS.png)"
   ]
  },
  {
   "cell_type": "markdown",
   "id": "d4b878d2-bcb1-45b8-894a-1af2a53080ab",
   "metadata": {},
   "source": [
    "Since class imbalance is found, SMOTE will be applied in the preprocessing."
   ]
  },
  {
   "cell_type": "markdown",
   "id": "df522f43-5d43-4d97-83af-14c3df9176a1",
   "metadata": {},
   "source": [
    "### 4.2.3 Distribution of Numerical Features"
   ]
  },
  {
   "cell_type": "code",
   "execution_count": 9,
   "id": "65640874-c895-4062-a636-645c4f506d0b",
   "metadata": {},
   "outputs": [
    {
     "data": {
      "image/png": "[encoded data removed]",
      "text/plain": [
       "<Figure size 1500x600 with 4 Axes>"
      ]
     },
     "metadata": {},
     "output_type": "display_data"
    }
   ],
   "source": [
    "num_features = ['age', 'bmi', 'hbA1c_level', 'blood_glucose_level']\n",
    "df_original[num_features].hist(bins=15, figsize=(15, 6), layout=(2, 2))\n",
    "plt.suptitle('Distribution of Numerical Features')\n",
    "plt.show()"
   ]
  },
  {
   "cell_type": "markdown",
   "id": "de3ceedd-c1d7-4a0f-8a83-859d9777c2c2",
   "metadata": {},
   "source": [
    "![Numericals](https://i.imgur.com/JUgm16j.png)"
   ]
  },
  {
   "cell_type": "markdown",
   "id": "2fcc9577-89ce-4ce1-b0e3-f9957a98debd",
   "metadata": {},
   "source": [
    "# 5. Feature Engineering"
   ]
  },
  {
   "cell_type": "markdown",
   "id": "f8f95575-ef49-42b1-85ff-e8eb780c986e",
   "metadata": {},
   "source": [
    "## 5.1 Removing Features with Low Correlation with Diabetes"
   ]
  },
  {
   "cell_type": "code",
   "execution_count": 10,
   "id": "366891b3-99e1-40e4-be33-80fd9c9f8bb6",
   "metadata": {
    "scrolled": true
   },
   "outputs": [
    {
     "name": "stdout",
     "output_type": "stream",
     "text": [
      "First few rows of the preprocessed dataset:\n",
      "   year       age  race:AfricanAmerican  race:Asian  race:Caucasian  \\\n",
      "0  2018  0.138304                     1           0               0   \n",
      "1  2016 -0.838748                     0           0               0   \n",
      "2  2019  0.449184                     1           0               0   \n",
      "3  2019  0.760064                     0           0               0   \n",
      "4  2016 -0.749925                     0           1               0   \n",
      "\n",
      "   race:Hispanic  race:Other  hypertension  heart_disease  smoking_history  \\\n",
      "0              0           0             0              0                1   \n",
      "1              0           1             1              0                0   \n",
      "2              0           0             0              0                5   \n",
      "3              0           1             0              0                4   \n",
      "4              0           0             0              0                3   \n",
      "\n",
      "        bmi  hbA1c_level  blood_glucose_level  gender_Female  gender_Male  \\\n",
      "0  0.953664    -1.893686            -1.180558            0.0          1.0   \n",
      "1  0.477528    -0.679490             1.521618            1.0          0.0   \n",
      "2 -0.000116    -0.492690            -0.197948            1.0          0.0   \n",
      "3  2.407689     3.056500             0.047704            1.0          0.0   \n",
      "4 -1.002112    -0.492690             0.489878            1.0          0.0   \n",
      "\n",
      "   gender_Other  location_Alabama  location_Alaska  location_Arizona  \\\n",
      "0           0.0               0.0              0.0               0.0   \n",
      "1           0.0               0.0              0.0               0.0   \n",
      "2           0.0               0.0              0.0               0.0   \n",
      "3           0.0               0.0              0.0               0.0   \n",
      "4           0.0               0.0              0.0               0.0   \n",
      "\n",
      "   location_Arkansas  location_California  location_Colorado  \\\n",
      "0                0.0                  0.0                0.0   \n",
      "1                0.0                  0.0                0.0   \n",
      "2                0.0                  0.0                0.0   \n",
      "3                0.0                  0.0                0.0   \n",
      "4                0.0                  0.0                0.0   \n",
      "\n",
      "   location_Connecticut  location_Delaware  location_District of Columbia  \\\n",
      "0                   0.0                0.0                            0.0   \n",
      "1                   0.0                0.0                            0.0   \n",
      "2                   0.0                0.0                            0.0   \n",
      "3                   0.0                0.0                            0.0   \n",
      "4                   0.0                0.0                            0.0   \n",
      "\n",
      "   location_Florida  location_Georgia  location_Guam  location_Hawaii  \\\n",
      "0               0.0               0.0            0.0              0.0   \n",
      "1               0.0               0.0            0.0              0.0   \n",
      "2               0.0               0.0            0.0              0.0   \n",
      "3               1.0               0.0            0.0              0.0   \n",
      "4               0.0               0.0            0.0              0.0   \n",
      "\n",
      "   location_Idaho  location_Illinois  location_Indiana  location_Iowa  \\\n",
      "0             0.0                0.0               0.0            0.0   \n",
      "1             0.0                0.0               0.0            0.0   \n",
      "2             0.0                0.0               0.0            0.0   \n",
      "3             0.0                0.0               0.0            0.0   \n",
      "4             0.0                0.0               0.0            0.0   \n",
      "\n",
      "   location_Kansas  location_Kentucky  location_Louisiana  location_Maine  \\\n",
      "0              0.0                0.0                 0.0             0.0   \n",
      "1              0.0                0.0                 0.0             0.0   \n",
      "2              0.0                0.0                 0.0             0.0   \n",
      "3              0.0                0.0                 0.0             0.0   \n",
      "4              0.0                0.0                 0.0             0.0   \n",
      "\n",
      "   location_Maryland  location_Massachusetts  location_Michigan  \\\n",
      "0                1.0                     0.0                0.0   \n",
      "1                0.0                     0.0                0.0   \n",
      "2                0.0                     0.0                0.0   \n",
      "3                0.0                     0.0                0.0   \n",
      "4                0.0                     0.0                0.0   \n",
      "\n",
      "   location_Minnesota  location_Mississippi  location_Missouri  \\\n",
      "0                 0.0                   0.0                0.0   \n",
      "1                 0.0                   0.0                0.0   \n",
      "2                 0.0                   0.0                0.0   \n",
      "3                 0.0                   0.0                0.0   \n",
      "4                 0.0                   0.0                1.0   \n",
      "\n",
      "   location_Montana  location_Nebraska  location_Nevada  \\\n",
      "0               0.0                0.0              0.0   \n",
      "1               0.0                0.0              0.0   \n",
      "2               0.0                0.0              0.0   \n",
      "3               0.0                0.0              0.0   \n",
      "4               0.0                0.0              0.0   \n",
      "\n",
      "   location_New Hampshire  location_New Jersey  location_New Mexico  \\\n",
      "0                     0.0                  0.0                  0.0   \n",
      "1                     0.0                  0.0                  0.0   \n",
      "2                     0.0                  1.0                  0.0   \n",
      "3                     0.0                  0.0                  0.0   \n",
      "4                     0.0                  0.0                  0.0   \n",
      "\n",
      "   location_New York  location_North Carolina  location_North Dakota  \\\n",
      "0                0.0                      0.0                    0.0   \n",
      "1                0.0                      0.0                    0.0   \n",
      "2                0.0                      0.0                    0.0   \n",
      "3                0.0                      0.0                    0.0   \n",
      "4                0.0                      0.0                    0.0   \n",
      "\n",
      "   location_Ohio  location_Oklahoma  location_Oregon  location_Pennsylvania  \\\n",
      "0            0.0                0.0              0.0                    0.0   \n",
      "1            0.0                0.0              0.0                    0.0   \n",
      "2            0.0                0.0              0.0                    0.0   \n",
      "3            0.0                0.0              0.0                    0.0   \n",
      "4            0.0                0.0              0.0                    0.0   \n",
      "\n",
      "   location_Puerto Rico  location_Rhode Island  location_South Carolina  \\\n",
      "0                   0.0                    0.0                      0.0   \n",
      "1                   0.0                    1.0                      0.0   \n",
      "2                   0.0                    0.0                      0.0   \n",
      "3                   0.0                    0.0                      0.0   \n",
      "4                   0.0                    0.0                      0.0   \n",
      "\n",
      "   location_South Dakota  location_Tennessee  location_Texas  \\\n",
      "0                    0.0                 0.0             0.0   \n",
      "1                    0.0                 0.0             0.0   \n",
      "2                    0.0                 0.0             0.0   \n",
      "3                    0.0                 0.0             0.0   \n",
      "4                    0.0                 0.0             0.0   \n",
      "\n",
      "   location_United States  location_Utah  location_Vermont  \\\n",
      "0                     0.0            0.0               0.0   \n",
      "1                     0.0            0.0               0.0   \n",
      "2                     0.0            0.0               0.0   \n",
      "3                     0.0            0.0               0.0   \n",
      "4                     0.0            0.0               0.0   \n",
      "\n",
      "   location_Virgin Islands  location_Virginia  location_Washington  \\\n",
      "0                      0.0                0.0                  0.0   \n",
      "1                      0.0                0.0                  0.0   \n",
      "2                      0.0                0.0                  0.0   \n",
      "3                      0.0                0.0                  0.0   \n",
      "4                      0.0                0.0                  0.0   \n",
      "\n",
      "   location_West Virginia  location_Wisconsin  location_Wyoming  \n",
      "0                     0.0                 0.0               0.0  \n",
      "1                     0.0                 0.0               0.0  \n",
      "2                     0.0                 0.0               0.0  \n",
      "3                     0.0                 0.0               0.0  \n",
      "4                     0.0                 0.0               0.0  \n"
     ]
    }
   ],
   "source": [
    "# Check the first few rows of the dataset after preprocessing\n",
    "pd.set_option('display.max_columns', None)\n",
    "print(\"First few rows of the preprocessed dataset:\")\n",
    "print(X_train_smote.head())\n"
   ]
  },
  {
   "cell_type": "code",
   "execution_count": 15,
   "id": "eba1cbc0-ec90-445f-8cfa-54bf557b96ea",
   "metadata": {},
   "outputs": [
    {
     "name": "stdout",
     "output_type": "stream",
     "text": [
      "        age  hypertension  heart_disease  smoking_history       bmi  \\\n",
      "0  0.138304             0              0                1  0.953664   \n",
      "1 -0.838748             1              0                0  0.477528   \n",
      "2  0.449184             0              0                5 -0.000116   \n",
      "3  0.760064             0              0                4  2.407689   \n",
      "4 -0.749925             0              0                3 -1.002112   \n",
      "\n",
      "   hbA1c_level  blood_glucose_level  gender_Female  gender_Male  gender_Other  \n",
      "0    -1.893686            -1.180558            0.0          1.0           0.0  \n",
      "1    -0.679490             1.521618            1.0          0.0           0.0  \n",
      "2    -0.492690            -0.197948            1.0          0.0           0.0  \n",
      "3     3.056500             0.047704            1.0          0.0           0.0  \n",
      "4    -0.492690             0.489878            1.0          0.0           0.0  \n"
     ]
    }
   ],
   "source": [
    "# Remove the 'year', 'race', and 'location_' columns\n",
    "columns_to_remove = ['year']+ [col for col in X.columns if col.startswith('race:')] + [col for col in X.columns if col.startswith('location_')]\n",
    "X_train_cleaned = X_train_smote.drop(columns=columns_to_remove)\n",
    "X_test_cleaned = X_test.drop(columns=columns_to_remove)\n",
    "\n",
    "print(X_train_cleaned.head())"
   ]
  },
  {
   "attachments": {},
   "cell_type": "markdown",
   "id": "74c53f5b-de26-4d19-933a-fe5d9893a6fa",
   "metadata": {
    "id": "2f4af99b-8186-4220-a81b-a4b6709555c9"
   },
   "source": [
    "# 6. Model Selection & Training"
   ]
  },
  {
   "cell_type": "markdown",
   "id": "51e9fe7d-19d9-4927-b6aa-0f16e944a9d6",
   "metadata": {},
   "source": [
    "## 6.1 Logistic Regression Classifier"
   ]
  },
  {
   "cell_type": "code",
   "execution_count": null,
   "id": "56f36dbc-b21f-448b-a916-0b73c0b0fc0b",
   "metadata": {
    "colab": {
     "base_uri": "https://localhost:8080/"
    },
    "collapsed": true,
    "id": "4814b926-5310-4206-9944-f22e8dce366d",
    "jupyter": {
     "outputs_hidden": true
    },
    "outputId": "3e80704a-4721-437d-e507-00533f3efbd8",
    "scrolled": true
   },
   "outputs": [
    {
     "name": "stdout",
     "output_type": "stream",
     "text": [
      "              precision    recall  f1-score   support\n",
      "\n",
      "           0       0.99      0.89      0.93     18300\n",
      "           1       0.41      0.87      0.56      1700\n",
      "\n",
      "    accuracy                           0.88     20000\n",
      "   macro avg       0.70      0.88      0.75     20000\n",
      "weighted avg       0.94      0.88      0.90     20000\n",
      "\n",
      "Best parameters found:  {'C': 0.01, 'solver': 'liblinear'}\n",
      "Best cross-validation score:  0.886275468881269\n"
     ]
    }
   ],
   "source": [
    "log_reg = LogisticRegression(max_iter=1000)\n",
    "\n",
    "log_reg_param_grid = {\n",
    "    'C': [0.01, 0.1, 1, 10, 100],\n",
    "    'solver': ['liblinear', 'saga']\n",
    "}\n",
    "\n",
    "grid_search = GridSearchCV(estimator=log_reg, param_grid=log_reg_param_grid, cv=5, n_jobs=-1, scoring='f1')\n",
    "\n",
    "grid_search.fit(X_train_cleaned, y_train_smote)\n",
    "\n",
    "# Get the best estimator\n",
    "best_log_reg = grid_search.best_estimator_\n",
    "\n",
    "y_pred = best_log_reg.predict(X_test_cleaned)\n",
    "print(classification_report(y_test, y_pred))\n",
    "\n",
    "print(\"Best parameters found: \", grid_search.best_params_)\n",
    "print(\"Best cross-validation score: \", grid_search.best_score_)"
   ]
  },
  {
   "cell_type": "markdown",
   "id": "3b2b3e70-a953-4122-b789-e8b20a09dbf2",
   "metadata": {},
   "source": [
    "## 6.2 K-Nearest Neighbors Classifier"
   ]
  },
  {
   "cell_type": "code",
   "execution_count": null,
   "id": "73d80e87-81da-4658-8b80-ae72596c641d",
   "metadata": {
    "colab": {
     "base_uri": "https://localhost:8080/"
    },
    "collapsed": true,
    "id": "d2516667-375e-4257-bcea-a9187610aca9",
    "jupyter": {
     "outputs_hidden": true
    },
    "outputId": "5938e49e-1948-4336-e364-992be3abe8bb"
   },
   "outputs": [
    {
     "name": "stdout",
     "output_type": "stream",
     "text": [
      "              precision    recall  f1-score   support\n",
      "\n",
      "           0       0.98      0.94      0.96     18300\n",
      "           1       0.54      0.79      0.64      1700\n",
      "\n",
      "    accuracy                           0.93     20000\n",
      "   macro avg       0.76      0.86      0.80     20000\n",
      "weighted avg       0.94      0.93      0.93     20000\n",
      "\n",
      "Best parameters found:  {'metric': 'manhattan', 'n_neighbors': 3, 'weights': 'distance'}\n",
      "Best cross-validation score:  0.9467395686567859\n"
     ]
    }
   ],
   "source": [
    "knn = KNeighborsClassifier()\n",
    "\n",
    "knn_param_grid = {\n",
    "    'n_neighbors': [3, 5, 7, 11, 21, 41],\n",
    "    'weights': ['uniform', 'distance'],\n",
    "    'metric': ['euclidean', 'manhattan']\n",
    "}\n",
    "\n",
    "grid_search = GridSearchCV(estimator=knn, param_grid=knn_param_grid, cv=5, n_jobs=-1, scoring='f1')\n",
    "\n",
    "grid_search.fit(X_train_cleaned, y_train_smote)\n",
    "\n",
    "best_knn = grid_search.best_estimator_\n",
    "\n",
    "y_pred = best_knn.predict(X_test_cleaned)\n",
    "print(classification_report(y_test, y_pred))\n",
    "\n",
    "print(\"Best parameters found: \", grid_search.best_params_)\n",
    "print(\"Best cross-validation score: \", grid_search.best_score_)"
   ]
  },
  {
   "cell_type": "markdown",
   "id": "de1da788-0ef1-48d3-aeac-c91750921779",
   "metadata": {},
   "source": [
    "## 6.3 RandomForest Classifier"
   ]
  },
  {
   "cell_type": "code",
   "execution_count": null,
   "id": "c6b2e973-371c-47e5-8780-ef4c77e54853",
   "metadata": {
    "colab": {
     "base_uri": "https://localhost:8080/"
    },
    "id": "t2ygIWsqqI8j",
    "outputId": "dcff0501-4a8f-4572-ada8-ad3bc076c0d0"
   },
   "outputs": [
    {
     "name": "stdout",
     "output_type": "stream",
     "text": [
      "              precision    recall  f1-score   support\n",
      "\n",
      "           0       0.98      0.98      0.98     18300\n",
      "           1       0.79      0.74      0.76      1700\n",
      "\n",
      "    accuracy                           0.96     20000\n",
      "   macro avg       0.88      0.86      0.87     20000\n",
      "weighted avg       0.96      0.96      0.96     20000\n",
      "\n",
      "Best parameters found:  {'bootstrap': False, 'max_depth': 30, 'min_samples_leaf': 1, 'min_samples_split': 5, 'n_estimators': 200}\n",
      "Best cross-validation score:  0.9729655120292324\n"
     ]
    }
   ],
   "source": [
    "rf = RandomForestClassifier()\n",
    "\n",
    "rf_param_grid = {\n",
    "    'n_estimators': [100, 200, 300],\n",
    "    'max_depth': [10, 20, 30],\n",
    "    'min_samples_split': [2, 5, 10],\n",
    "    'min_samples_leaf': [1, 2, 4],\n",
    "    'bootstrap': [True, False]\n",
    "}\n",
    "\n",
    "grid_search = GridSearchCV(estimator=rf, param_grid=rf_param_grid, cv=5, n_jobs=-1, scoring='f1')\n",
    "\n",
    "grid_search.fit(X_train_cleaned, y_train_smote)\n",
    "\n",
    "best_rf = grid_search.best_estimator_\n",
    "\n",
    "y_pred = best_rf.predict(X_test_cleaned)\n",
    "print(classification_report(y_test, y_pred))\n",
    "\n",
    "print(\"Best parameters found: \", grid_search.best_params_)\n",
    "print(\"Best cross-validation score: \", grid_search.best_score_)"
   ]
  },
  {
   "cell_type": "code",
   "execution_count": null,
   "id": "12a1e907-b77b-4073-bfc4-9c83ed7098c3",
   "metadata": {},
   "outputs": [],
   "source": [
    "## 6.4 XGBoost Classifier"
   ]
  },
  {
   "cell_type": "code",
   "execution_count": null,
   "id": "21934070-f9b4-4e90-800c-b0cfff3db560",
   "metadata": {
    "colab": {
     "base_uri": "https://localhost:8080/"
    },
    "id": "XT8YchbHsBYM",
    "outputId": "2d19f180-f739-458f-d11e-22a922d3924d",
    "scrolled": true
   },
   "outputs": [
    {
     "name": "stderr",
     "output_type": "stream",
     "text": [
      "/usr/local/lib/python3.10/dist-packages/xgboost/core.py:158: UserWarning: [21:25:08] WARNING: /workspace/src/learner.cc:740: \n",
      "Parameters: { \"use_label_encoder\" } are not used.\n",
      "\n",
      "  warnings.warn(smsg, UserWarning)\n"
     ]
    },
    {
     "name": "stdout",
     "output_type": "stream",
     "text": [
      "              precision    recall  f1-score   support\n",
      "\n",
      "           0       0.97      1.00      0.98     18300\n",
      "           1       0.94      0.71      0.81      1700\n",
      "\n",
      "    accuracy                           0.97     20000\n",
      "   macro avg       0.95      0.85      0.90     20000\n",
      "weighted avg       0.97      0.97      0.97     20000\n",
      "\n",
      "Best parameters found:  {'colsample_bytree': 0.6448155608672209, 'gamma': 0.07957111980914833, 'learning_rate': 0.10694704332753689, 'max_depth': 7, 'min_child_weight': 3, 'n_estimators': 233, 'reg_alpha': 0.09750671629451425, 'reg_lambda': 1.4907487792587846, 'subsample': 0.8891584386487102}\n",
      "Best cross-validation score:  0.9760651261380138\n"
     ]
    }
   ],
   "source": [
    "xgb_param_dist = {\n",
    "    'n_estimators': randint(100, 300),\n",
    "    'max_depth': randint(4, 8),\n",
    "    'learning_rate': uniform(0.01, 0.1),\n",
    "    'subsample': uniform(0.6, 0.4),\n",
    "    'colsample_bytree': uniform(0.6, 0.4),\n",
    "    'gamma': uniform(0, 0.2),\n",
    "    'min_child_weight': randint(1, 5),\n",
    "    'reg_alpha': uniform(0, 0.1),\n",
    "    'reg_lambda': uniform(1, 1)\n",
    "}\n",
    "\n",
    "# RandomizedSearchCV object because the hypp. space is too big\n",
    "random_search_xgb = RandomizedSearchCV(estimator=xgb, param_distributions=xgb_param_dist, n_iter=100, cv=5, n_jobs=-1, scoring='f1', random_state=42)\n",
    "\n",
    "random_search_xgb.fit(X_train_cleaned, y_train_smote)\n",
    "\n",
    "best_xgb = random_search_xgb.best_estimator_\n",
    "\n",
    "y_pred_xgb = best_xgb.predict(X_test_cleaned)\n",
    "print(classification_report(y_test, y_pred_xgb))\n",
    "\n",
    "print(\"Best parameters found: \", random_search_xgb.best_params_)\n",
    "print(\"Best cross-validation score: \", random_search_xgb.best_score_)"
   ]
  },
  {
   "cell_type": "code",
   "execution_count": null,
   "id": "c76a8705-1b56-46ec-9688-454bad4f3e41",
   "metadata": {},
   "outputs": [],
   "source": [
    "## 6.5 CatBoost Classifier"
   ]
  },
  {
   "cell_type": "code",
   "execution_count": null,
   "id": "774c575e-fd00-4ab5-be70-2403be94b7d5",
   "metadata": {
    "colab": {
     "base_uri": "https://localhost:8080/"
    },
    "id": "4a0d8724-a059-4d2f-876f-8d9022997e46",
    "outputId": "b199cec3-cdb1-4c32-ef49-7e0ae8cb48f7",
    "scrolled": true
   },
   "outputs": [
    {
     "name": "stdout",
     "output_type": "stream",
     "text": [
      "              precision    recall  f1-score   support\n",
      "\n",
      "           0       0.97      1.00      0.99     18300\n",
      "           1       0.96      0.70      0.81      1700\n",
      "\n",
      "    accuracy                           0.97     20000\n",
      "   macro avg       0.97      0.85      0.90     20000\n",
      "weighted avg       0.97      0.97      0.97     20000\n",
      "\n",
      "Best parameters found:  {'depth': 6, 'iterations': 200, 'learning_rate': 0.1}\n",
      "Best cross-validation score:  0.9769942405184306\n"
     ]
    }
   ],
   "source": [
    "# Define the CatBoostClassifier\n",
    "catboost = CatBoostClassifier(verbose=0)\n",
    "\n",
    "# Define the parameter grid\n",
    "catboost_param_grid = {\n",
    "    'iterations': [100, 200],\n",
    "    'depth': [4, 6],\n",
    "    'learning_rate': [0.01, 0.1]\n",
    "}\n",
    "\n",
    "# Create the GridSearchCV object\n",
    "grid_search = GridSearchCV(estimator=catboost, param_grid=catboost_param_grid, cv=5, n_jobs=-1, scoring='f1')\n",
    "\n",
    "# Fit the model\n",
    "grid_search.fit(X_train_cleaned, y_train_smote)\n",
    "\n",
    "# Get the best estimator\n",
    "best_catboost = grid_search.best_estimator_\n",
    "\n",
    "# Evaluate the model\n",
    "y_pred = best_catboost.predict(X_test_cleaned)\n",
    "print(classification_report(y_test, y_pred))\n",
    "\n",
    "# Optionally, print the best parameters and best score\n",
    "print(\"Best parameters found: \", grid_search.best_params_)\n",
    "print(\"Best cross-validation score: \", grid_search.best_score_)"
   ]
  },
  {
   "cell_type": "code",
   "execution_count": null,
   "id": "6641303e-84cf-4365-884e-eb0306bd08de",
   "metadata": {},
   "outputs": [],
   "source": [
    "## 6.6 Gaussian Naive Bayes Classifier"
   ]
  },
  {
   "cell_type": "code",
   "execution_count": null,
   "id": "4205dae0-9908-46d1-9aed-d025abefa800",
   "metadata": {
    "colab": {
     "base_uri": "https://localhost:8080/"
    },
    "id": "1f01838d-8d78-4377-bc53-aa6cdbe898c8",
    "outputId": "d0dc05d9-903f-41f1-edaf-698c4850b047"
   },
   "outputs": [
    {
     "name": "stdout",
     "output_type": "stream",
     "text": [
      "              precision    recall  f1-score   support\n",
      "\n",
      "           0       0.99      0.73      0.84     18300\n",
      "           1       0.24      0.94      0.39      1700\n",
      "\n",
      "    accuracy                           0.75     20000\n",
      "   macro avg       0.62      0.84      0.61     20000\n",
      "weighted avg       0.93      0.75      0.80     20000\n",
      "\n",
      "Best parameters found:  {'var_smoothing': 1e-06}\n",
      "Best cross-validation score:  0.8560346281260178\n"
     ]
    }
   ],
   "source": [
    "gnb = GaussianNB()\n",
    "\n",
    "gnb_param_grid = {\n",
    "    'var_smoothing': np.logspace(-9, -6, 4)\n",
    "}\n",
    "\n",
    "grid_search = GridSearchCV(estimator=gnb, param_grid=gnb_param_grid, cv=5, n_jobs=-1, scoring='f1')\n",
    "\n",
    "grid_search.fit(X_train_cleaned, y_train_smote)\n",
    "\n",
    "best_gnb = grid_search.best_estimator_\n",
    "\n",
    "y_pred = best_gnb.predict(X_test_cleaned)\n",
    "print(classification_report(y_test, y_pred))\n",
    "\n",
    "print(\"Best parameters found: \", grid_search.best_params_)\n",
    "print(\"Best cross-validation score: \", grid_search.best_score_)"
   ]
  },
  {
   "cell_type": "markdown",
   "id": "6c062879-a0b6-4cdf-a849-22081cb6fb5b",
   "metadata": {
    "id": "zDYTRqG18aV6"
   },
   "source": [
    "## 6.7 Modular Neural Network"
   ]
  },
  {
   "cell_type": "markdown",
   "id": "77d04919-f31c-4b6c-9d81-ce037ee5db6b",
   "metadata": {},
   "source": [
    "### 6.7.1 Defining the Hyperparamter Space and Optimizing the Neural Network"
   ]
  },
  {
   "cell_type": "code",
   "execution_count": null,
   "id": "c59bb783-8711-4fbc-8ede-b61b980731c8",
   "metadata": {
    "colab": {
     "base_uri": "https://localhost:8080/",
     "height": 879
    },
    "id": "0q4EGldC8cKU",
    "outputId": "5a4c5cf1-59a8-42ad-ba43-9dae68f56300"
   },
   "outputs": [],
   "source": [
    "device = torch.device(\"cuda\" if torch.cuda.is_available() else \"cpu\")\n",
    "\n",
    "# Convert the data to PyTorch tensors and move them to the GPU\n",
    "X_train_tensor = torch.tensor(X_train_cleaned.values, dtype=torch.float32).to(device)\n",
    "y_train_tensor = torch.tensor(y_train_smote.values, dtype=torch.float32).to(device)\n",
    "X_test_tensor = torch.tensor(X_test_cleaned.values, dtype=torch.float32).to(device)\n",
    "y_test_tensor = torch.tensor(y_test.values, dtype=torch.float32).to(device)\n",
    "\n",
    "# DataLoader for training and testing\n",
    "train_dataset = TensorDataset(X_train_tensor, y_train_tensor)\n",
    "test_dataset = TensorDataset(X_test_tensor, y_test_tensor)\n",
    "train_loader = DataLoader(train_dataset, batch_size=32, shuffle=True)\n",
    "test_loader = DataLoader(test_dataset, batch_size=32, shuffle=False)\n",
    "\n",
    "# The neural network class\n",
    "class DiabetesNN(nn.Module):\n",
    "    def __init__(self, input_dim, hidden_dim, output_dim, n_layers, dropout_rate, activation):\n",
    "        super(DiabetesNN, self).__init__()\n",
    "        layers = []\n",
    "        layers.append(nn.Linear(input_dim, hidden_dim))\n",
    "        layers.append(activation)\n",
    "        layers.append(nn.Dropout(dropout_rate))\n",
    "        for _ in range(n_layers - 1):\n",
    "            layers.append(nn.Linear(hidden_dim, hidden_dim))\n",
    "            layers.append(activation)\n",
    "            layers.append(nn.Dropout(dropout_rate))\n",
    "        layers.append(nn.Linear(hidden_dim, output_dim))\n",
    "        self.network = nn.Sequential(*layers)\n",
    "\n",
    "    def forward(self, x):\n",
    "        return self.network(x)\n",
    "\n",
    "# The objective function for Optuna (Hypp. space)\n",
    "def objective(trial):\n",
    "    hidden_dim = trial.suggest_categorical('hidden_dim', [32 * i for i in range(1, 9)])  # Multiples of 32 up to 32*8\n",
    "    n_layers = trial.suggest_int('n_layers', 1, 5)\n",
    "    dropout_rate = trial.suggest_float('dropout_rate', 0.1, 0.5)\n",
    "    learning_rate = trial.suggest_float('learning_rate', 1e-5, 1e-2)\n",
    "    activation_name = trial.suggest_categorical('activation', ['ReLU', 'LeakyReLU', 'Tanh'])\n",
    "    optimizer_name = trial.suggest_categorical('optimizer', ['Adam', 'SGD', 'RMSprop'])\n",
    "\n",
    "    # Activation functions\n",
    "    if activation_name == 'ReLU':\n",
    "        activation = nn.ReLU()\n",
    "    elif activation_name == 'LeakyReLU':\n",
    "        activation = nn.LeakyReLU()\n",
    "    elif activation_name == 'Tanh':\n",
    "        activation = nn.Tanh()\n",
    "\n",
    "    # Initialize the model\n",
    "    model = DiabetesNN(input_dim=X_train_tensor.shape[1], hidden_dim=hidden_dim, output_dim=1, n_layers=n_layers, dropout_rate=dropout_rate, activation=activation).to(device)\n",
    "    criterion = nn.BCEWithLogitsLoss()\n",
    "\n",
    "    # Optimizer\n",
    "    if optimizer_name == 'Adam':\n",
    "        optimizer = optim.Adam(model.parameters(), lr=learning_rate)\n",
    "    elif optimizer_name == 'SGD':\n",
    "        optimizer = optim.SGD(model.parameters(), lr=learning_rate)\n",
    "    elif optimizer_name == 'RMSprop':\n",
    "        optimizer = optim.RMSprop(model.parameters(), lr=learning_rate)\n",
    "\n",
    "    # Training loop\n",
    "    model.train()\n",
    "    for epoch in range(25): \n",
    "        for X_batch, y_batch in train_loader:\n",
    "            optimizer.zero_grad()\n",
    "            outputs = model(X_batch).squeeze()\n",
    "            loss = criterion(outputs, y_batch)\n",
    "            loss.backward()\n",
    "            optimizer.step()\n",
    "\n",
    "    # Evaluation\n",
    "    model.eval()\n",
    "    y_pred = []\n",
    "    with torch.no_grad():\n",
    "        for X_batch, _ in test_loader:\n",
    "            outputs = model(X_batch).squeeze()\n",
    "            preds = torch.round(torch.sigmoid(outputs))\n",
    "            y_pred.extend(preds.cpu().numpy())  # Move predictions back to CPU for evaluation\n",
    "\n",
    "    # Move y_test_tensor back to CPU for evaluation\n",
    "    f1 = f1_score(y_test_tensor.cpu().numpy(), y_pred)\n",
    "    return f1\n",
    "\n",
    "# Create a study object and optimize the objective function\n",
    "study = optuna.create_study(direction='maximize', storage=f'sqlite:///{save_dir}/example_study.db', study_name='example_study', load_if_exists=True)\n",
    "study.optimize(objective, n_trials=50)\n",
    "\n",
    "# Save the study results to a file\n",
    "with open(os.path.join(save_dir, \"study.pkl\"), \"wb\") as f:\n",
    "    pickle.dump(study, f)\n",
    "\n",
    "# Load the study results from a file\n",
    "with open(os.path.join(save_dir, \"study.pkl\"), \"rb\") as f:\n",
    "    study = pickle.load(f)\n",
    "\n",
    "# Display the best trial\n",
    "print(\"Best trial:\")\n",
    "trial = study.best_trial\n",
    "print(f\"  Value: {trial.value}\")\n",
    "print(\"  Params: \")\n",
    "for key, value in trial.params.items():\n",
    "    print(f\"    {key}: {value}\")\n",
    "\n",
    "# Function to resume the study\n",
    "def resume_study(study_name, storage):\n",
    "    study = optuna.load_study(study_name=study_name, storage=storage)\n",
    "    study.optimize(objective, n_trials=100)\n",
    "    return study\n",
    "\n",
    "study = resume_study(\"example_study\", f'sqlite:///{save_dir}/example_study.db')\n",
    "\n",
    "# Training loop with gradient clipping\n",
    "model.train()\n",
    "for epoch in range(20):  # You can increase the number of epochs\n",
    "    for X_batch, y_batch in train_loader:\n",
    "        optimizer.zero_grad()\n",
    "        outputs = model(X_batch).squeeze()\n",
    "        loss = criterion(outputs, y_batch)\n",
    "        loss.backward()\n",
    "\n",
    "        # Gradient clipping\n",
    "        torch.nn.utils.clip_grad_norm_(model.parameters(), max_norm=1.0)\n",
    "\n",
    "        optimizer.step()"
   ]
  },
  {
   "cell_type": "markdown",
   "id": "76bfac89-4c28-4fa4-836c-538c5231c410",
   "metadata": {},
   "source": [
    "### 6.7.2 Printing the best Trial"
   ]
  },
  {
   "cell_type": "code",
   "execution_count": null,
   "id": "6021d2b2-6afd-498f-8311-0ca9fdcab3be",
   "metadata": {
    "colab": {
     "base_uri": "https://localhost:8080/",
     "height": 1000
    },
    "id": "daCnMLNeM8pP",
    "outputId": "fbea39ea-9774-4e39-e305-06eff948b408",
    "scrolled": true
   },
   "outputs": [],
   "source": [
    "study = optuna.load_study(study_name=\"example_study\", storage=f'sqlite:///{save_dir}/example_study.db')\n",
    "\n",
    "best_trial = study.best_trial\n",
    "\n",
    "print(\"Best trial:\")\n",
    "print(f\"  Value: {best_trial.value}\")\n",
    "print(\"  Params: \")\n",
    "for key, value in best_trial.params.items():\n",
    "    print(f\"    {key}: {value}\")\n",
    "\n"
   ]
  },
  {
   "cell_type": "markdown",
   "id": "0a12b0cf-90f5-433a-bb4c-fe82984373aa",
   "metadata": {},
   "source": [
    "### 6.7.3 Visualizing Optuna Study Results"
   ]
  },
  {
   "cell_type": "code",
   "execution_count": null,
   "id": "70984568-01a9-4485-b0f1-a692270f9022",
   "metadata": {
    "id": "1g1XOeJsNKbg"
   },
   "outputs": [],
   "source": [
    "# Plot optimization history\n",
    "optuna.visualization.plot_optimization_history(study).show()\n",
    "\n",
    "# Plot parameter importances\n",
    "optuna.visualization.plot_param_importances(study).show()\n",
    "\n",
    "# Plot slice\n",
    "optuna.visualization.plot_slice(study).show()"
   ]
  },
  {
   "cell_type": "markdown",
   "id": "0ca605ad-2651-476a-820a-d98b66b3cbac",
   "metadata": {},
   "source": [
    "![optimization history](https://i.imgur.com/nhNQwpS.png)"
   ]
  },
  {
   "cell_type": "markdown",
   "id": "a27da5f7-1605-4a94-9244-b775e0d33ae7",
   "metadata": {},
   "source": [
    "![parameter importances](https://i.imgur.com/I2sv1Ho.png)"
   ]
  },
  {
   "cell_type": "markdown",
   "id": "a015cf03-aee9-48c7-8506-eac590bbf482",
   "metadata": {},
   "source": [
    "![slice](https://i.imgur.com/u7AzttY.png)"
   ]
  },
  {
   "cell_type": "markdown",
   "id": "3bc386e3-27da-43f9-aa34-1069f83337ca",
   "metadata": {
    "id": "z0_eug3DMUVA"
   },
   "source": [
    "### 6.7.4 Training with the best Hyperparamters"
   ]
  },
  {
   "cell_type": "code",
   "execution_count": 6,
   "id": "8366f602-5bf9-4915-abf6-681ef284ac38",
   "metadata": {
    "colab": {
     "base_uri": "https://localhost:8080/"
    },
    "id": "El18lrk-MT28",
    "outputId": "e7345f4b-f53c-444c-f144-140ece4c70c3",
    "scrolled": true
   },
   "outputs": [
    {
     "name": "stdout",
     "output_type": "stream",
     "text": [
      "Epoch 1, Train Loss: 0.20982423800405095, Train Accuracy: 0.9009289617486339, Validation Loss: 0.20948228460550308, Validation Accuracy: 0.8706\n",
      "Epoch 2, Train Loss: 0.20532176621665393, Train Accuracy: 0.90474043715847, Validation Loss: 0.16737693675756454, Validation Accuracy: 0.9138\n",
      "Epoch 3, Train Loss: 0.20178510305578592, Train Accuracy: 0.9056420765027322, Validation Loss: 0.17014872615337373, Validation Accuracy: 0.9001\n",
      "Epoch 4, Train Loss: 0.20158547830304813, Train Accuracy: 0.9073565573770492, Validation Loss: 0.1809004996061325, Validation Accuracy: 0.8989\n",
      "Epoch 5, Train Loss: 0.19861878968551347, Train Accuracy: 0.9081625683060109, Validation Loss: 0.18872734575867653, Validation Accuracy: 0.8899\n",
      "Epoch 6, Train Loss: 0.27149225724850845, Train Accuracy: 0.9079781420765027, Validation Loss: 0.23205440833568572, Validation Accuracy: 0.88315\n",
      "Epoch 7, Train Loss: 0.17846242041454288, Train Accuracy: 0.9138387978142076, Validation Loss: 0.18277081608772278, Validation Accuracy: 0.90335\n",
      "Epoch 8, Train Loss: 0.17541396919475064, Train Accuracy: 0.9151161202185792, Validation Loss: 0.22481898064613343, Validation Accuracy: 0.89865\n",
      "Epoch 9, Train Loss: 0.17346281533195673, Train Accuracy: 0.9159289617486339, Validation Loss: 0.267235255163908, Validation Accuracy: 0.89815\n",
      "Epoch 10, Train Loss: 0.17430952758207674, Train Accuracy: 0.9165232240437159, Validation Loss: 0.23117258409261704, Validation Accuracy: 0.89895\n",
      "Epoch 11, Train Loss: 0.19240043089241604, Train Accuracy: 0.91775956284153, Validation Loss: 0.23457190685272217, Validation Accuracy: 0.90125\n",
      "Epoch 12, Train Loss: 0.18041579948443043, Train Accuracy: 0.918162568306011, Validation Loss: 0.22843336074948312, Validation Accuracy: 0.9025\n",
      "Early stopping triggered\n",
      "Final Model Accuracy:  0.9138\n",
      "Final Model F1 Score:  0.6317812900469885\n"
     ]
    }
   ],
   "source": [
    "hidden_dim = 192\n",
    "n_layers = 3\n",
    "dropout_rate = 0.1314305372015669\n",
    "learning_rate = 0.007833779618038004\n",
    "activation = nn.LeakyReLU()\n",
    "optimizer_name = 'Adam'\n",
    "\n",
    "# Initialize the model\n",
    "model = DiabetesNN(input_dim=X_train_tensor.shape[1], hidden_dim=hidden_dim, output_dim=1, n_layers=n_layers, dropout_rate=dropout_rate, activation=activation).to(device)\n",
    "criterion = nn.BCEWithLogitsLoss()\n",
    "\n",
    "# Optimizer\n",
    "if optimizer_name == 'Adam':\n",
    "    optimizer = optim.Adam(model.parameters(), lr=learning_rate)\n",
    "elif optimizer_name == 'SGD':\n",
    "    optimizer = optim.SGD(model.parameters(), lr=learning_rate)\n",
    "elif optimizer_name == 'RMSprop':\n",
    "    optimizer = optim.RMSprop(model.parameters(), lr=learning_rate)\n",
    "\n",
    "# Early stopping and learning rate scheduler\n",
    "early_stopping_patience = 10\n",
    "lr_scheduler_patience = 3\n",
    "lr_scheduler_factor = 0.1\n",
    "\n",
    "best_val_loss = float('inf')\n",
    "early_stopping_counter = 0\n",
    "\n",
    "scheduler = optim.lr_scheduler.ReduceLROnPlateau(optimizer, mode='min', factor=lr_scheduler_factor, patience=lr_scheduler_patience, verbose=True)\n",
    "\n",
    "# Training loop \n",
    "model.train()\n",
    "for epoch in range(100):  # Let the Early Stopping do its work\n",
    "    model.train()\n",
    "    train_loss = 0.0\n",
    "    train_correct = 0\n",
    "    train_total = 0\n",
    "    for X_batch, y_batch in train_loader:\n",
    "        optimizer.zero_grad()\n",
    "        outputs = model(X_batch).squeeze()\n",
    "        loss = criterion(outputs, y_batch)\n",
    "        loss.backward()\n",
    "\n",
    "        # Gradient clipping\n",
    "        torch.nn.utils.clip_grad_norm_(model.parameters(), max_norm=1.0)\n",
    "\n",
    "        optimizer.step()\n",
    "\n",
    "        train_loss += loss.item()\n",
    "        preds = torch.round(torch.sigmoid(outputs))\n",
    "        train_correct += (preds == y_batch).sum().item()\n",
    "        train_total += y_batch.size(0)\n",
    "\n",
    "    train_loss /= len(train_loader)\n",
    "    train_accuracy = train_correct / train_total\n",
    "\n",
    "    # Validation\n",
    "    model.eval()\n",
    "    val_loss = 0.0\n",
    "    val_correct = 0\n",
    "    val_total = 0\n",
    "    with torch.no_grad():\n",
    "        for X_batch, y_batch in test_loader:\n",
    "            outputs = model(X_batch).squeeze()\n",
    "            loss = criterion(outputs, y_batch)\n",
    "            val_loss += loss.item()\n",
    "            preds = torch.round(torch.sigmoid(outputs))\n",
    "            val_correct += (preds == y_batch).sum().item()\n",
    "            val_total += y_batch.size(0)\n",
    "\n",
    "    val_loss /= len(test_loader)\n",
    "    val_accuracy = val_correct / val_total\n",
    "    scheduler.step(val_loss)\n",
    "\n",
    "    print(f\"Epoch {epoch+1}, Train Loss: {train_loss}, Train Accuracy: {train_accuracy}, Validation Loss: {val_loss}, Validation Accuracy: {val_accuracy}\")\n",
    "\n",
    "    # Early stopping\n",
    "    if val_loss < best_val_loss:\n",
    "        best_val_loss = val_loss\n",
    "        early_stopping_counter = 0\n",
    "        # Save the best model\n",
    "        torch.save(model.state_dict(), os.path.join(save_dir, \"best_model.pth\"))\n",
    "    else:\n",
    "        early_stopping_counter += 1\n",
    "\n",
    "    if early_stopping_counter >= early_stopping_patience:\n",
    "        print(\"Early stopping triggered\")\n",
    "        break\n",
    "\n",
    "# Load the best model\n",
    "model.load_state_dict(torch.load(os.path.join(save_dir, \"best_model.pth\")))\n",
    "\n",
    "# Evaluation of the final model\n",
    "model.eval()\n",
    "y_pred = []\n",
    "with torch.no_grad():\n",
    "    for X_batch, _ in test_loader:\n",
    "        outputs = model(X_batch).squeeze()\n",
    "        preds = torch.round(torch.sigmoid(outputs))\n",
    "        y_pred.extend(preds.cpu().numpy())  # Move predictions back to CPU for evaluation\n",
    "\n",
    "accuracy = accuracy_score(y_test_tensor.cpu().numpy(), y_pred)  # Move y_test_tensor back to CPU for evaluation\n",
    "f1 = f1_score(y_test_tensor.cpu().numpy(), y_pred)  # Move y_test_tensor back to CPU for evaluation\n",
    "print(\"Final Model Accuracy: \", accuracy)\n",
    "print(\"Final Model F1 Score: \", f1)"
   ]
  },
  {
   "cell_type": "markdown",
   "id": "a2d31558-7f9c-4206-b795-c42deffea093",
   "metadata": {},
   "source": [
    "# 7. Model Evaluation"
   ]
  },
  {
   "cell_type": "code",
   "execution_count": 4,
   "id": "c3184a56-f00d-46f7-8e09-4c8bd07eee96",
   "metadata": {},
   "outputs": [],
   "source": [
    "model_results = {\n",
    "    \"LogisticRegression\": {\n",
    "        \"accuracy\": 0.88,\n",
    "        \"precision\": {\"class_0\": 0.99, \"class_1\": 0.41},\n",
    "        \"recall\": {\"class_0\": 0.89, \"class_1\": 0.87},\n",
    "        \"f1_score\": {\"class_0\": 0.93, \"class_1\": 0.56},\n",
    "        \"best_cv_score\": 0.886275468881269,\n",
    "        \"best_params\": {'C': 0.01, 'solver': 'liblinear'}\n",
    "    },\n",
    "    \"KNN\": {\n",
    "        \"accuracy\": 0.93,\n",
    "        \"precision\": {\"class_0\": 0.98, \"class_1\": 0.54},\n",
    "        \"recall\": {\"class_0\": 0.94, \"class_1\": 0.79},\n",
    "        \"f1_score\": {\"class_0\": 0.96, \"class_1\": 0.64},\n",
    "        \"best_cv_score\": 0.9467395686567859,\n",
    "        \"best_params\": {'metric': 'manhattan', 'n_neighbors': 3, 'weights': 'distance'}\n",
    "    },\n",
    "    \"RandomForest\": {\n",
    "        \"accuracy\": 0.96,\n",
    "        \"precision\": {\"class_0\": 0.98, \"class_1\": 0.79},\n",
    "        \"recall\": {\"class_0\": 0.98, \"class_1\": 0.74},\n",
    "        \"f1_score\": {\"class_0\": 0.98, \"class_1\": 0.76},\n",
    "        \"best_cv_score\": 0.9729655120292324,\n",
    "        \"best_params\": {'bootstrap': False, 'max_depth': 30, 'min_samples_leaf': 1, 'min_samples_split': 5, 'n_estimators': 200}\n",
    "    },\n",
    "    \"XGB\": {\n",
    "        \"accuracy\": 0.97,\n",
    "        \"precision\": {\"class_0\": 0.97, \"class_1\": 0.94},\n",
    "        \"recall\": {\"class_0\": 1.00, \"class_1\": 0.71},\n",
    "        \"f1_score\": {\"class_0\": 0.98, \"class_1\": 0.81},\n",
    "        \"best_cv_score\": 0.9760651261380138,\n",
    "        \"best_params\": {'colsample_bytree': 0.6448155608672209, 'gamma': 0.07957111980914833, 'learning_rate': 0.10694704332753689, 'max_depth': 7, 'min_child_weight': 3, 'n_estimators': 233, 'reg_alpha': 0.09750671629451425, 'reg_lambda': 1.4907487792587846, 'subsample': 0.8891584386487102}\n",
    "    },\n",
    "    \"CatBoost\": {\n",
    "        \"accuracy\": 0.97,\n",
    "        \"precision\": {\"class_0\": 0.97, \"class_1\": 0.96},\n",
    "        \"recall\": {\"class_0\": 1.00, \"class_1\": 0.70},\n",
    "        \"f1_score\": {\"class_0\": 0.99, \"class_1\": 0.81},\n",
    "        \"best_cv_score\": 0.9769942405184306,\n",
    "        \"best_params\": {'depth': 6, 'iterations': 200, 'learning_rate': 0.1}\n",
    "    },\n",
    "    \"GaussianNB\": {\n",
    "        \"accuracy\": 0.75,\n",
    "        \"precision\": {\"class_0\": 0.99, \"class_1\": 0.24},\n",
    "        \"recall\": {\"class_0\": 0.73, \"class_1\": 0.94},\n",
    "        \"f1_score\": {\"class_0\": 0.84, \"class_1\": 0.39},\n",
    "        \"best_cv_score\": 0.8560346281260178,\n",
    "        \"best_params\": {'var_smoothing': 1e-06}\n",
    "    },\n",
    "    'Neural Network': {\n",
    "        'accuracy': 0.91465,\n",
    "        'precision': {'class_0': 0.9888057503093148, 'class_1': 0.4988437396762471},\n",
    "        'recall': {'class_0': 0.917103825136612, 'class_1': 0.888235294117647},\n",
    "        'f1_score': {'class_0': 0.9516060442831629, 'class_1': 0.6388830124814894},\n",
    "        'best_cv_score': 0.9769942405184306,\n",
    "        'best_params': {'hidden_dim': 224, 'n_layers': 2, 'dropout_rate': 0.1314305372015669, 'learning_rate': 0.007833779618038004, 'activation': 'Tanh', 'optimizer': 'Adam'}\n",
    "    }\n",
    "}\n",
    "\n",
    "# Data preparation\n",
    "models = list(model_results.keys())\n",
    "metrics = ['accuracy', 'precision', 'recall', 'f1_score']\n",
    "classes = ['class_0', 'class_1']\n",
    "\n",
    "# Accuracy\n",
    "accuracy = [model_results[model]['accuracy'] for model in models]\n",
    "\n",
    "# Precision, Recall, F1-Score\n",
    "precision = {cls: [model_results[model]['precision'][cls] for model in models] for cls in classes}\n",
    "recall = {cls: [model_results[model]['recall'][cls] for model in models] for cls in classes}\n",
    "f1_score = {cls: [model_results[model]['f1_score'][cls] for model in models] for cls in classes}"
   ]
  },
  {
   "cell_type": "markdown",
   "id": "dc522439-9773-4105-9587-5cd8b42f9414",
   "metadata": {},
   "source": [
    "## 7.1 Accuracy"
   ]
  },
  {
   "cell_type": "code",
   "execution_count": null,
   "id": "0df7338e-a49f-49f6-9c44-567eb6cc1384",
   "metadata": {},
   "outputs": [],
   "source": [
    "# Bar Chart for Accuracy with Percentage Labels\n",
    "plt.figure(figsize=(10, 6))\n",
    "ax = sns.barplot(x=models, y=accuracy)\n",
    "plt.title('Model Accuracy')\n",
    "plt.ylabel('Accuracy')\n",
    "plt.xticks(rotation=45)\n",
    "\n",
    "# Adding percentage labels\n",
    "for i, acc in enumerate(accuracy):\n",
    "    plt.text(i, acc + 0.005, f'{acc:.2%}', ha='center', va='bottom')\n",
    "\n",
    "plt.show()"
   ]
  },
  {
   "cell_type": "markdown",
   "id": "014ce21e-3942-4fdd-a2b7-47effd01f293",
   "metadata": {},
   "source": [
    "![Accuracy](https://i.imgur.com/ruVB6lF.png)"
   ]
  },
  {
   "cell_type": "markdown",
   "id": "a4228f0a-0225-412a-a7d7-ef88491f6b31",
   "metadata": {},
   "source": [
    "The **accuracy results** for the models show a range of performance:\n",
    "\n",
    "- The highest accuracy is achieved by the **XGB** and **CatBoost** models at **0.97**.\n",
    "- **RandomForest** follows closely with an accuracy of **0.96**.\n",
    "- The **KNN** and **Neural Network** models also perform well, with accuracies of **0.93** and **0.91465**, respectively.\n",
    "- **LogisticRegression** and **GaussianNB** have lower accuracies at **0.88** and **0.75**, respectively.\n",
    "\n",
    "> **Important Note:** Given the **class imbalance** in the dataset, where **class 1** was underrepresented before applying **SMOTE**, **accuracy alone may not be the best metric** to evaluate model performance. Accuracy can be misleading in imbalanced datasets because it may reflect the model's ability to predict the majority class (**class 0**) correctly while failing to capture the minority class (**class 1**) effectively.\n",
    "\n",
    "Therefore, it is crucial to also consider **precision**, **recall**, and **F1-score**, especially for **class 1**, to get a more comprehensive understanding of each model's performance."
   ]
  },
  {
   "cell_type": "markdown",
   "id": "4f358a44-82f0-463b-ad10-da834eb568dc",
   "metadata": {},
   "source": [
    "## 7.1 F1 Score"
   ]
  },
  {
   "cell_type": "code",
   "execution_count": null,
   "id": "ec68a390-8ebd-4624-b933-0aac5a7f20a6",
   "metadata": {
    "scrolled": true
   },
   "outputs": [],
   "source": [
    "for metric, data in zip(['F1-Score'], [f1_score]):\n",
    "    plt.figure(figsize=(12, 6))\n",
    "    for cls in classes:\n",
    "        ax = sns.barplot(x=models, y=data[cls], label=cls)\n",
    "        # Adding percentage labels\n",
    "        for i, value in enumerate(data[cls]):\n",
    "            plt.text(i, value + 0.005, f'{value:.2%}', ha='center', va='bottom')\n",
    "    plt.title(f'Model {metric}')\n",
    "    plt.ylabel(metric)\n",
    "    plt.legend(title='Class', bbox_to_anchor=(1.05, 1), loc='upper left')\n",
    "    plt.xticks(rotation=45)\n",
    "    plt.show()"
   ]
  },
  {
   "cell_type": "markdown",
   "id": "3c80e670-ce1a-460b-a81b-0e68136a8d5e",
   "metadata": {},
   "source": [
    "![F1](https://i.imgur.com/1X22wcB.png)"
   ]
  },
  {
   "cell_type": "markdown",
   "id": "1c9d3046-f8c2-40fe-89ad-f133a26b9098",
   "metadata": {},
   "source": [
    "- **Top Performers:**\n",
    "   - **XGB** and **CatBoost** are the top-performing models in terms of both **accuracy** and **F1-score** for both classes. This indicates that these models are well-balanced and handle the class imbalance effectively.\n",
    "\n",
    "\n",
    "- **RandomForest:** also performs very well, with high accuracy and F1-scores, making it a strong contender for this classification task.\n",
    "\n",
    "- **Neural Network and KNN:** show good performance, especially in terms of accuracy and F1-score for class 0. However, their F1-scores for class 1 are lower compared to the top performers, indicating they might not handle the minority class as effectively.\n",
    "\n",
    "- **LogisticRegression and GaussianNB:** have lower overall performance, particularly in terms of F1-score for class 1. This suggests they struggle more with the class imbalance and may not be the best choices for this dataset. Having the lowest F1 score, it can be concluded that the dataset does not follow a Gaussian distribution."
   ]
  },
  {
   "cell_type": "markdown",
   "id": "479454a5-4375-469a-af03-13b476c65fac",
   "metadata": {},
   "source": [
    "## 7.3 Precision & Recall"
   ]
  },
  {
   "cell_type": "code",
   "execution_count": null,
   "id": "501a7342-fb9e-409c-91a5-a966e6e27e9b",
   "metadata": {},
   "outputs": [],
   "source": [
    "# Heatmap for Precision & Recall\n",
    "for metric, data in zip(['Precision', 'Recall'], [precision, recall]):\n",
    "    df = pd.DataFrame(data, index=models)\n",
    "    plt.figure(figsize=(10, 6))\n",
    "    sns.heatmap(df.T, annot=True, cmap='coolwarm')\n",
    "    plt.title(f'Model {metric} Heatmap')\n",
    "    plt.show()"
   ]
  },
  {
   "attachments": {},
   "cell_type": "markdown",
   "id": "a771adbe-15ea-4887-9f36-8b7e137d3528",
   "metadata": {},
   "source": [
    "![Precision](https://i.imgur.com/lmGSadq.png)\n",
    "![Recall](https://i.imgur.com/FpgTSDI.png)"
   ]
  },
  {
   "cell_type": "markdown",
   "id": "b84f88aa-21e7-445d-936d-ee3cfaeb333d",
   "metadata": {},
   "source": [
    "- **Precision:** Measures how many of the predicted positive instances are actually positive. High precision indicates a low false positive rate.\n",
    "- **Recall:** Measures how many of the actual positive instances are correctly identified by the model. High recall indicates a low false negative rate.\n",
    "\n",
    "**Brief Summary of Results:**\n",
    "\n",
    "- **Class 0:** All models exhibit high precision and recall, indicating they are effective at identifying and correctly predicting the majority class.\n",
    "- **Class 1:** Precision and recall vary significantly across models. **CatBoost** and **XGB** show a strong balance between precision and recall, making them reliable for handling the minority class. **RandomForest** also performs well, while **LogisticRegression** and **GaussianNB** show higher recall but lower precision, indicating a higher rate of false positives. **Neural Network** and **KNN** have moderate performance, suggesting room for improvement.\n",
    "\n",
    "Overall, models like **CatBoost**, **XGB**, and **RandomForest** that maintain a good balance between precision and recall are preferable for effectively handling class imbalance."
   ]
  },
  {
   "cell_type": "markdown",
   "id": "074321a1-6f91-450e-b2ca-9ead47373c33",
   "metadata": {},
   "source": [
    "## 7.4 Radar Chart for Overall Performance"
   ]
  },
  {
   "cell_type": "code",
   "execution_count": null,
   "id": "2796eca8-3f44-4609-98f5-48514377db65",
   "metadata": {},
   "outputs": [],
   "source": [
    "# Data preparation for radar chart\n",
    "def get_radar_data(model_results, metrics):\n",
    "    data = []\n",
    "    for model in models:\n",
    "        model_data = []\n",
    "        for metric in metrics:\n",
    "            if metric == 'accuracy':\n",
    "                model_data.append(model_results[model][metric])\n",
    "            else:\n",
    "                model_data.append(np.mean(list(model_results[model][metric].values())))\n",
    "        data.append(model_data)\n",
    "    return data\n",
    "\n",
    "radar_data = get_radar_data(model_results, metrics)\n",
    "\n",
    "# Radar chart\n",
    "fig, ax = plt.subplots(figsize=(8, 8), subplot_kw=dict(polar=True))\n",
    "angles = np.linspace(0, 2 * np.pi, len(metrics), endpoint=False).tolist()\n",
    "angles += angles[:1]\n",
    "\n",
    "for i, model in enumerate(models):\n",
    "    values = radar_data[i]\n",
    "    values += values[:1]\n",
    "    ax.plot(angles, values, label=model)\n",
    "    ax.fill(angles, values, alpha=0.25)\n",
    "\n",
    "ax.set_yticklabels([])\n",
    "ax.set_xticks(angles[:-1])\n",
    "ax.set_xticklabels(metrics)\n",
    "plt.title('Model Performance Radar Chart')\n",
    "plt.legend(loc='upper right', bbox_to_anchor=(1.1, 1.1))\n",
    "plt.show()"
   ]
  },
  {
   "cell_type": "markdown",
   "id": "fc82c594-56cd-4584-b107-d18bcca4e9a5",
   "metadata": {},
   "source": [
    "![Radar chart](https://i.imgur.com/yEHRslO.png)"
   ]
  },
  {
   "cell_type": "markdown",
   "id": "fc5de484-20b6-48dd-bfcd-259548a20d4f",
   "metadata": {},
   "source": [
    "# 8. Conclusion"
   ]
  },
  {
   "cell_type": "markdown",
   "id": "5dbdd6cb-d1b1-4201-82fe-dc02c0580316",
   "metadata": {},
   "source": []
  }
 ],
 "metadata": {
  "accelerator": "TPU",
  "colab": {
   "gpuType": "V28",
   "provenance": []
  },
  "kernelspec": {
   "display_name": "Python 3 (ipykernel)",
   "language": "python",
   "name": "python3"
  },
  "language_info": {
   "codemirror_mode": {
    "name": "ipython",
    "version": 3
   },
   "file_extension": ".py",
   "mimetype": "text/x-python",
   "name": "python",
   "nbconvert_exporter": "python",
   "pygments_lexer": "ipython3",
   "version": "3.11.9"
  }
 },
 "nbformat": 4,
 "nbformat_minor": 5
}
